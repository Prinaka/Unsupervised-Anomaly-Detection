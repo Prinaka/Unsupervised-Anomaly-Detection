{
 "cells": [
  {
   "cell_type": "code",
   "execution_count": 1,
   "id": "a2b39bc5",
   "metadata": {
    "execution": {
     "iopub.execute_input": "2025-06-19T06:54:05.000942Z",
     "iopub.status.busy": "2025-06-19T06:54:05.000685Z",
     "iopub.status.idle": "2025-06-19T06:55:28.540581Z",
     "shell.execute_reply": "2025-06-19T06:55:28.539811Z"
    },
    "papermill": {
     "duration": 83.545844,
     "end_time": "2025-06-19T06:55:28.542101",
     "exception": false,
     "start_time": "2025-06-19T06:54:04.996257",
     "status": "completed"
    },
    "tags": []
   },
   "outputs": [
    {
     "name": "stdout",
     "output_type": "stream",
     "text": [
      "Requirement already satisfied: scikit-learn in /usr/local/lib/python3.11/dist-packages (1.2.2)\r\n",
      "Requirement already satisfied: opencv-python in /usr/local/lib/python3.11/dist-packages (4.11.0.86)\r\n",
      "Requirement already satisfied: matplotlib in /usr/local/lib/python3.11/dist-packages (3.7.2)\r\n",
      "Requirement already satisfied: timm in /usr/local/lib/python3.11/dist-packages (1.0.15)\r\n",
      "Requirement already satisfied: numpy>=1.17.3 in /usr/local/lib/python3.11/dist-packages (from scikit-learn) (1.26.4)\r\n",
      "Requirement already satisfied: scipy>=1.3.2 in /usr/local/lib/python3.11/dist-packages (from scikit-learn) (1.15.2)\r\n",
      "Requirement already satisfied: joblib>=1.1.1 in /usr/local/lib/python3.11/dist-packages (from scikit-learn) (1.5.0)\r\n",
      "Requirement already satisfied: threadpoolctl>=2.0.0 in /usr/local/lib/python3.11/dist-packages (from scikit-learn) (3.6.0)\r\n",
      "Requirement already satisfied: contourpy>=1.0.1 in /usr/local/lib/python3.11/dist-packages (from matplotlib) (1.3.1)\r\n",
      "Requirement already satisfied: cycler>=0.10 in /usr/local/lib/python3.11/dist-packages (from matplotlib) (0.12.1)\r\n",
      "Requirement already satisfied: fonttools>=4.22.0 in /usr/local/lib/python3.11/dist-packages (from matplotlib) (4.57.0)\r\n",
      "Requirement already satisfied: kiwisolver>=1.0.1 in /usr/local/lib/python3.11/dist-packages (from matplotlib) (1.4.8)\r\n",
      "Requirement already satisfied: packaging>=20.0 in /usr/local/lib/python3.11/dist-packages (from matplotlib) (25.0)\r\n",
      "Requirement already satisfied: pillow>=6.2.0 in /usr/local/lib/python3.11/dist-packages (from matplotlib) (11.1.0)\r\n",
      "Requirement already satisfied: pyparsing<3.1,>=2.3.1 in /usr/local/lib/python3.11/dist-packages (from matplotlib) (3.0.9)\r\n",
      "Requirement already satisfied: python-dateutil>=2.7 in /usr/local/lib/python3.11/dist-packages (from matplotlib) (2.9.0.post0)\r\n",
      "Requirement already satisfied: torch in /usr/local/lib/python3.11/dist-packages (from timm) (2.6.0+cu124)\r\n",
      "Requirement already satisfied: torchvision in /usr/local/lib/python3.11/dist-packages (from timm) (0.21.0+cu124)\r\n",
      "Requirement already satisfied: pyyaml in /usr/local/lib/python3.11/dist-packages (from timm) (6.0.2)\r\n",
      "Requirement already satisfied: huggingface_hub in /usr/local/lib/python3.11/dist-packages (from timm) (0.31.1)\r\n",
      "Requirement already satisfied: safetensors in /usr/local/lib/python3.11/dist-packages (from timm) (0.5.3)\r\n",
      "Requirement already satisfied: mkl_fft in /usr/local/lib/python3.11/dist-packages (from numpy>=1.17.3->scikit-learn) (1.3.8)\r\n",
      "Requirement already satisfied: mkl_random in /usr/local/lib/python3.11/dist-packages (from numpy>=1.17.3->scikit-learn) (1.2.4)\r\n",
      "Requirement already satisfied: mkl_umath in /usr/local/lib/python3.11/dist-packages (from numpy>=1.17.3->scikit-learn) (0.1.1)\r\n",
      "Requirement already satisfied: mkl in /usr/local/lib/python3.11/dist-packages (from numpy>=1.17.3->scikit-learn) (2025.1.0)\r\n",
      "Requirement already satisfied: tbb4py in /usr/local/lib/python3.11/dist-packages (from numpy>=1.17.3->scikit-learn) (2022.1.0)\r\n",
      "Requirement already satisfied: mkl-service in /usr/local/lib/python3.11/dist-packages (from numpy>=1.17.3->scikit-learn) (2.4.1)\r\n",
      "Requirement already satisfied: six>=1.5 in /usr/local/lib/python3.11/dist-packages (from python-dateutil>=2.7->matplotlib) (1.17.0)\r\n",
      "Requirement already satisfied: filelock in /usr/local/lib/python3.11/dist-packages (from huggingface_hub->timm) (3.18.0)\r\n",
      "Requirement already satisfied: fsspec>=2023.5.0 in /usr/local/lib/python3.11/dist-packages (from huggingface_hub->timm) (2025.3.2)\r\n",
      "Requirement already satisfied: requests in /usr/local/lib/python3.11/dist-packages (from huggingface_hub->timm) (2.32.3)\r\n",
      "Requirement already satisfied: tqdm>=4.42.1 in /usr/local/lib/python3.11/dist-packages (from huggingface_hub->timm) (4.67.1)\r\n",
      "Requirement already satisfied: typing-extensions>=3.7.4.3 in /usr/local/lib/python3.11/dist-packages (from huggingface_hub->timm) (4.13.2)\r\n",
      "Requirement already satisfied: hf-xet<2.0.0,>=1.1.0 in /usr/local/lib/python3.11/dist-packages (from huggingface_hub->timm) (1.1.0)\r\n",
      "Requirement already satisfied: networkx in /usr/local/lib/python3.11/dist-packages (from torch->timm) (3.4.2)\r\n",
      "Requirement already satisfied: jinja2 in /usr/local/lib/python3.11/dist-packages (from torch->timm) (3.1.6)\r\n",
      "Requirement already satisfied: nvidia-cuda-nvrtc-cu12==12.4.127 in /usr/local/lib/python3.11/dist-packages (from torch->timm) (12.4.127)\r\n",
      "Requirement already satisfied: nvidia-cuda-runtime-cu12==12.4.127 in /usr/local/lib/python3.11/dist-packages (from torch->timm) (12.4.127)\r\n",
      "Requirement already satisfied: nvidia-cuda-cupti-cu12==12.4.127 in /usr/local/lib/python3.11/dist-packages (from torch->timm) (12.4.127)\r\n",
      "Collecting nvidia-cudnn-cu12==9.1.0.70 (from torch->timm)\r\n",
      "  Downloading nvidia_cudnn_cu12-9.1.0.70-py3-none-manylinux2014_x86_64.whl.metadata (1.6 kB)\r\n",
      "Collecting nvidia-cublas-cu12==12.4.5.8 (from torch->timm)\r\n",
      "  Downloading nvidia_cublas_cu12-12.4.5.8-py3-none-manylinux2014_x86_64.whl.metadata (1.5 kB)\r\n",
      "Collecting nvidia-cufft-cu12==11.2.1.3 (from torch->timm)\r\n",
      "  Downloading nvidia_cufft_cu12-11.2.1.3-py3-none-manylinux2014_x86_64.whl.metadata (1.5 kB)\r\n",
      "Collecting nvidia-curand-cu12==10.3.5.147 (from torch->timm)\r\n",
      "  Downloading nvidia_curand_cu12-10.3.5.147-py3-none-manylinux2014_x86_64.whl.metadata (1.5 kB)\r\n",
      "Collecting nvidia-cusolver-cu12==11.6.1.9 (from torch->timm)\r\n",
      "  Downloading nvidia_cusolver_cu12-11.6.1.9-py3-none-manylinux2014_x86_64.whl.metadata (1.6 kB)\r\n",
      "Collecting nvidia-cusparse-cu12==12.3.1.170 (from torch->timm)\r\n",
      "  Downloading nvidia_cusparse_cu12-12.3.1.170-py3-none-manylinux2014_x86_64.whl.metadata (1.6 kB)\r\n",
      "Requirement already satisfied: nvidia-cusparselt-cu12==0.6.2 in /usr/local/lib/python3.11/dist-packages (from torch->timm) (0.6.2)\r\n",
      "Requirement already satisfied: nvidia-nccl-cu12==2.21.5 in /usr/local/lib/python3.11/dist-packages (from torch->timm) (2.21.5)\r\n",
      "Requirement already satisfied: nvidia-nvtx-cu12==12.4.127 in /usr/local/lib/python3.11/dist-packages (from torch->timm) (12.4.127)\r\n",
      "Collecting nvidia-nvjitlink-cu12==12.4.127 (from torch->timm)\r\n",
      "  Downloading nvidia_nvjitlink_cu12-12.4.127-py3-none-manylinux2014_x86_64.whl.metadata (1.5 kB)\r\n",
      "Requirement already satisfied: triton==3.2.0 in /usr/local/lib/python3.11/dist-packages (from torch->timm) (3.2.0)\r\n",
      "Requirement already satisfied: sympy==1.13.1 in /usr/local/lib/python3.11/dist-packages (from torch->timm) (1.13.1)\r\n",
      "Requirement already satisfied: mpmath<1.4,>=1.1.0 in /usr/local/lib/python3.11/dist-packages (from sympy==1.13.1->torch->timm) (1.3.0)\r\n",
      "Requirement already satisfied: MarkupSafe>=2.0 in /usr/local/lib/python3.11/dist-packages (from jinja2->torch->timm) (3.0.2)\r\n",
      "Requirement already satisfied: intel-openmp<2026,>=2024 in /usr/local/lib/python3.11/dist-packages (from mkl->numpy>=1.17.3->scikit-learn) (2024.2.0)\r\n",
      "Requirement already satisfied: tbb==2022.* in /usr/local/lib/python3.11/dist-packages (from mkl->numpy>=1.17.3->scikit-learn) (2022.1.0)\r\n",
      "Requirement already satisfied: tcmlib==1.* in /usr/local/lib/python3.11/dist-packages (from tbb==2022.*->mkl->numpy>=1.17.3->scikit-learn) (1.3.0)\r\n",
      "Requirement already satisfied: intel-cmplr-lib-rt in /usr/local/lib/python3.11/dist-packages (from mkl_umath->numpy>=1.17.3->scikit-learn) (2024.2.0)\r\n",
      "Requirement already satisfied: charset-normalizer<4,>=2 in /usr/local/lib/python3.11/dist-packages (from requests->huggingface_hub->timm) (3.4.2)\r\n",
      "Requirement already satisfied: idna<4,>=2.5 in /usr/local/lib/python3.11/dist-packages (from requests->huggingface_hub->timm) (3.10)\r\n",
      "Requirement already satisfied: urllib3<3,>=1.21.1 in /usr/local/lib/python3.11/dist-packages (from requests->huggingface_hub->timm) (2.4.0)\r\n",
      "Requirement already satisfied: certifi>=2017.4.17 in /usr/local/lib/python3.11/dist-packages (from requests->huggingface_hub->timm) (2025.4.26)\r\n",
      "Requirement already satisfied: intel-cmplr-lib-ur==2024.2.0 in /usr/local/lib/python3.11/dist-packages (from intel-openmp<2026,>=2024->mkl->numpy>=1.17.3->scikit-learn) (2024.2.0)\r\n",
      "Downloading nvidia_cublas_cu12-12.4.5.8-py3-none-manylinux2014_x86_64.whl (363.4 MB)\r\n",
      "\u001b[2K   \u001b[90m━━━━━━━━━━━━━━━━━━━━━━━━━━━━━━━━━━━━━━━━\u001b[0m \u001b[32m363.4/363.4 MB\u001b[0m \u001b[31m4.6 MB/s\u001b[0m eta \u001b[36m0:00:00\u001b[0m\r\n",
      "\u001b[?25hDownloading nvidia_cudnn_cu12-9.1.0.70-py3-none-manylinux2014_x86_64.whl (664.8 MB)\r\n",
      "\u001b[2K   \u001b[90m━━━━━━━━━━━━━━━━━━━━━━━━━━━━━━━━━━━━━━━━\u001b[0m \u001b[32m664.8/664.8 MB\u001b[0m \u001b[31m2.5 MB/s\u001b[0m eta \u001b[36m0:00:00\u001b[0m\r\n",
      "\u001b[?25hDownloading nvidia_cufft_cu12-11.2.1.3-py3-none-manylinux2014_x86_64.whl (211.5 MB)\r\n",
      "\u001b[2K   \u001b[90m━━━━━━━━━━━━━━━━━━━━━━━━━━━━━━━━━━━━━━━━\u001b[0m \u001b[32m211.5/211.5 MB\u001b[0m \u001b[31m7.8 MB/s\u001b[0m eta \u001b[36m0:00:00\u001b[0m\r\n",
      "\u001b[?25hDownloading nvidia_curand_cu12-10.3.5.147-py3-none-manylinux2014_x86_64.whl (56.3 MB)\r\n",
      "\u001b[2K   \u001b[90m━━━━━━━━━━━━━━━━━━━━━━━━━━━━━━━━━━━━━━━━\u001b[0m \u001b[32m56.3/56.3 MB\u001b[0m \u001b[31m17.1 MB/s\u001b[0m eta \u001b[36m0:00:00\u001b[0m\r\n",
      "\u001b[?25hDownloading nvidia_cusolver_cu12-11.6.1.9-py3-none-manylinux2014_x86_64.whl (127.9 MB)\r\n",
      "\u001b[2K   \u001b[90m━━━━━━━━━━━━━━━━━━━━━━━━━━━━━━━━━━━━━━━━\u001b[0m \u001b[32m127.9/127.9 MB\u001b[0m \u001b[31m1.9 MB/s\u001b[0m eta \u001b[36m0:00:00\u001b[0m\r\n",
      "\u001b[?25hDownloading nvidia_cusparse_cu12-12.3.1.170-py3-none-manylinux2014_x86_64.whl (207.5 MB)\r\n",
      "\u001b[2K   \u001b[90m━━━━━━━━━━━━━━━━━━━━━━━━━━━━━━━━━━━━━━━━\u001b[0m \u001b[32m207.5/207.5 MB\u001b[0m \u001b[31m7.7 MB/s\u001b[0m eta \u001b[36m0:00:00\u001b[0m\r\n",
      "\u001b[?25hDownloading nvidia_nvjitlink_cu12-12.4.127-py3-none-manylinux2014_x86_64.whl (21.1 MB)\r\n",
      "\u001b[2K   \u001b[90m━━━━━━━━━━━━━━━━━━━━━━━━━━━━━━━━━━━━━━━━\u001b[0m \u001b[32m21.1/21.1 MB\u001b[0m \u001b[31m39.1 MB/s\u001b[0m eta \u001b[36m0:00:00\u001b[0m\r\n",
      "\u001b[?25hInstalling collected packages: nvidia-nvjitlink-cu12, nvidia-curand-cu12, nvidia-cufft-cu12, nvidia-cublas-cu12, nvidia-cusparse-cu12, nvidia-cudnn-cu12, nvidia-cusolver-cu12\r\n",
      "  Attempting uninstall: nvidia-nvjitlink-cu12\r\n",
      "    Found existing installation: nvidia-nvjitlink-cu12 12.9.41\r\n",
      "    Uninstalling nvidia-nvjitlink-cu12-12.9.41:\r\n",
      "      Successfully uninstalled nvidia-nvjitlink-cu12-12.9.41\r\n",
      "  Attempting uninstall: nvidia-curand-cu12\r\n",
      "    Found existing installation: nvidia-curand-cu12 10.3.10.19\r\n",
      "    Uninstalling nvidia-curand-cu12-10.3.10.19:\r\n",
      "      Successfully uninstalled nvidia-curand-cu12-10.3.10.19\r\n",
      "  Attempting uninstall: nvidia-cufft-cu12\r\n",
      "    Found existing installation: nvidia-cufft-cu12 11.4.0.6\r\n",
      "    Uninstalling nvidia-cufft-cu12-11.4.0.6:\r\n",
      "      Successfully uninstalled nvidia-cufft-cu12-11.4.0.6\r\n",
      "  Attempting uninstall: nvidia-cublas-cu12\r\n",
      "    Found existing installation: nvidia-cublas-cu12 12.9.0.13\r\n",
      "    Uninstalling nvidia-cublas-cu12-12.9.0.13:\r\n",
      "      Successfully uninstalled nvidia-cublas-cu12-12.9.0.13\r\n",
      "  Attempting uninstall: nvidia-cusparse-cu12\r\n",
      "    Found existing installation: nvidia-cusparse-cu12 12.5.9.5\r\n",
      "    Uninstalling nvidia-cusparse-cu12-12.5.9.5:\r\n",
      "      Successfully uninstalled nvidia-cusparse-cu12-12.5.9.5\r\n",
      "  Attempting uninstall: nvidia-cudnn-cu12\r\n",
      "    Found existing installation: nvidia-cudnn-cu12 9.3.0.75\r\n",
      "    Uninstalling nvidia-cudnn-cu12-9.3.0.75:\r\n",
      "      Successfully uninstalled nvidia-cudnn-cu12-9.3.0.75\r\n",
      "  Attempting uninstall: nvidia-cusolver-cu12\r\n",
      "    Found existing installation: nvidia-cusolver-cu12 11.7.4.40\r\n",
      "    Uninstalling nvidia-cusolver-cu12-11.7.4.40:\r\n",
      "      Successfully uninstalled nvidia-cusolver-cu12-11.7.4.40\r\n",
      "Successfully installed nvidia-cublas-cu12-12.4.5.8 nvidia-cudnn-cu12-9.1.0.70 nvidia-cufft-cu12-11.2.1.3 nvidia-curand-cu12-10.3.5.147 nvidia-cusolver-cu12-11.6.1.9 nvidia-cusparse-cu12-12.3.1.170 nvidia-nvjitlink-cu12-12.4.127\r\n"
     ]
    }
   ],
   "source": [
    "!pip install scikit-learn opencv-python matplotlib timm"
   ]
  },
  {
   "cell_type": "markdown",
   "id": "8e408e1b",
   "metadata": {
    "papermill": {
     "duration": 0.031369,
     "end_time": "2025-06-19T06:55:28.605224",
     "exception": false,
     "start_time": "2025-06-19T06:55:28.573855",
     "status": "completed"
    },
    "tags": []
   },
   "source": [
    "# **Notebook Setup**"
   ]
  },
  {
   "cell_type": "code",
   "execution_count": 2,
   "id": "743cb6c4",
   "metadata": {
    "execution": {
     "iopub.execute_input": "2025-06-19T06:55:28.669744Z",
     "iopub.status.busy": "2025-06-19T06:55:28.669433Z",
     "iopub.status.idle": "2025-06-19T06:55:39.257846Z",
     "shell.execute_reply": "2025-06-19T06:55:39.257019Z"
    },
    "papermill": {
     "duration": 10.622472,
     "end_time": "2025-06-19T06:55:39.259376",
     "exception": false,
     "start_time": "2025-06-19T06:55:28.636904",
     "status": "completed"
    },
    "tags": []
   },
   "outputs": [],
   "source": [
    "import random\n",
    "from random import sample\n",
    "import argparse\n",
    "import numpy as np\n",
    "import os\n",
    "from types import SimpleNamespace\n",
    "import pickle\n",
    "from tqdm import tqdm\n",
    "from collections import OrderedDict\n",
    "from sklearn.metrics import roc_auc_score, roc_curve, precision_recall_curve\n",
    "from sklearn.covariance import LedoitWolf\n",
    "from scipy.spatial.distance import mahalanobis\n",
    "from scipy.ndimage import gaussian_filter\n",
    "from skimage import morphology\n",
    "from skimage.segmentation import mark_boundaries\n",
    "import matplotlib.pyplot as plt\n",
    "import matplotlib\n",
    "import torch\n",
    "import torch.nn.functional as F\n",
    "from torch.utils.data import DataLoader\n",
    "from torchvision.models import wide_resnet50_2, resnet18"
   ]
  },
  {
   "cell_type": "code",
   "execution_count": 3,
   "id": "e29bdd06",
   "metadata": {
    "execution": {
     "iopub.execute_input": "2025-06-19T06:55:39.383859Z",
     "iopub.status.busy": "2025-06-19T06:55:39.382897Z",
     "iopub.status.idle": "2025-06-19T06:55:39.447604Z",
     "shell.execute_reply": "2025-06-19T06:55:39.446861Z"
    },
    "papermill": {
     "duration": 0.157144,
     "end_time": "2025-06-19T06:55:39.448871",
     "exception": false,
     "start_time": "2025-06-19T06:55:39.291727",
     "status": "completed"
    },
    "tags": []
   },
   "outputs": [],
   "source": [
    "# device setup\n",
    "use_cuda = torch.cuda.is_available()\n",
    "device = torch.device('cuda' if use_cuda else 'cpu')"
   ]
  },
  {
   "cell_type": "code",
   "execution_count": 4,
   "id": "09f11ceb",
   "metadata": {
    "execution": {
     "iopub.execute_input": "2025-06-19T06:55:39.515299Z",
     "iopub.status.busy": "2025-06-19T06:55:39.514972Z",
     "iopub.status.idle": "2025-06-19T06:55:39.521674Z",
     "shell.execute_reply": "2025-06-19T06:55:39.520995Z"
    },
    "papermill": {
     "duration": 0.041421,
     "end_time": "2025-06-19T06:55:39.522797",
     "exception": false,
     "start_time": "2025-06-19T06:55:39.481376",
     "status": "completed"
    },
    "tags": []
   },
   "outputs": [
    {
     "name": "stdout",
     "output_type": "stream",
     "text": [
      "Writing btad.py\n"
     ]
    }
   ],
   "source": [
    "%%writefile btad.py\n",
    "import os\n",
    "from enum import Enum\n",
    "\n",
    "import PIL\n",
    "import torch\n",
    "from torchvision import transforms\n",
    "\n",
    "_CLASSNAMES = [\n",
    "    \"01\",\n",
    "    \"02\",\n",
    "    \"03\"\n",
    "]\n",
    "\n",
    "IMAGENET_MEAN = [0.485, 0.456, 0.406]\n",
    "IMAGENET_STD = [0.229, 0.224, 0.225]\n",
    "\n",
    "\n",
    "class DatasetSplit(Enum):\n",
    "    TRAIN = \"train\"\n",
    "    VAL = \"val\"\n",
    "    TEST = \"test\"\n",
    "\n",
    "class BTADDataset(torch.utils.data.Dataset):\n",
    "    def __init__(\n",
    "        self,\n",
    "        source,\n",
    "        classname,\n",
    "        resize=256,\n",
    "        imagesize=224,\n",
    "        split=DatasetSplit.TRAIN,\n",
    "        train_val_split=1.0,\n",
    "        rotate_degrees=0,\n",
    "        translate=0,\n",
    "        brightness_factor=0,\n",
    "        contrast_factor=0,\n",
    "        saturation_factor=0,\n",
    "        gray_p=0,\n",
    "        h_flip_p=0,\n",
    "        v_flip_p=0,\n",
    "        scale=0,\n",
    "        **kwargs,\n",
    "    ):\n",
    "\n",
    "        super().__init__()\n",
    "        self.source = source\n",
    "        self.split = split\n",
    "        self.classnames_to_use = [classname] if classname is not None else _CLASSNAMES\n",
    "        self.train_val_split = train_val_split\n",
    "        self.transform_std = IMAGENET_STD\n",
    "        self.transform_mean = IMAGENET_MEAN\n",
    "        self.imgpaths_per_class, self.data_to_iterate = self.get_image_data()\n",
    "\n",
    "        self.transform_img = [\n",
    "            transforms.Resize(resize),\n",
    "            # transforms.RandomRotation(rotate_degrees, transforms.InterpolationMode.BILINEAR),\n",
    "            transforms.ColorJitter(brightness_factor, contrast_factor, saturation_factor),\n",
    "            transforms.RandomHorizontalFlip(h_flip_p),\n",
    "            transforms.RandomVerticalFlip(v_flip_p),\n",
    "            transforms.RandomGrayscale(gray_p),\n",
    "            transforms.RandomAffine(rotate_degrees, \n",
    "                                    translate=(translate, translate),\n",
    "                                    scale=(1.0-scale, 1.0+scale),\n",
    "                                    interpolation=transforms.InterpolationMode.BILINEAR),\n",
    "            transforms.CenterCrop(imagesize),\n",
    "            transforms.ToTensor(),\n",
    "            transforms.Normalize(mean=IMAGENET_MEAN, std=IMAGENET_STD),\n",
    "        ]\n",
    "        self.transform_img = transforms.Compose(self.transform_img)\n",
    "\n",
    "        self.transform_mask = [\n",
    "            transforms.Resize(resize),\n",
    "            transforms.CenterCrop(imagesize),\n",
    "            transforms.ToTensor(),\n",
    "        ]\n",
    "        self.transform_mask = transforms.Compose(self.transform_mask)\n",
    "\n",
    "        self.imagesize = (3, imagesize, imagesize)\n",
    "\n",
    "    def __getitem__(self, idx):\n",
    "        classname, anomaly, image_path, mask_path = self.data_to_iterate[idx]\n",
    "        image = PIL.Image.open(image_path).convert(\"RGB\")\n",
    "        image = self.transform_img(image)\n",
    "\n",
    "        if self.split == DatasetSplit.TEST and mask_path is not None:\n",
    "            mask = PIL.Image.open(mask_path)\n",
    "            mask = self.transform_mask(mask)\n",
    "        else:\n",
    "            mask = torch.zeros([1, *image.size()[1:]])\n",
    "\n",
    "        return {\n",
    "            \"image\": image,\n",
    "            \"mask\": mask,\n",
    "            \"classname\": classname,\n",
    "            \"anomaly\": anomaly,\n",
    "            \"is_anomaly\": int(anomaly != \"ok\"),\n",
    "            \"image_name\": \"/\".join(image_path.split(\"/\")[-4:]),\n",
    "            \"image_path\": image_path,\n",
    "        }\n",
    "\n",
    "    def __len__(self):\n",
    "        return len(self.data_to_iterate)\n",
    "\n",
    "    def get_image_data(self):\n",
    "        imgpaths_per_class = {}\n",
    "        maskpaths_per_class = {}\n",
    "    \n",
    "        for classname in self.classnames_to_use:\n",
    "            classpath = os.path.join(self.source, classname, self.split.value)\n",
    "            maskpath = os.path.join(self.source, classname, \"ground_truth\")\n",
    "            anomaly_types = os.listdir(classpath)\n",
    "    \n",
    "            imgpaths_per_class[classname] = {}\n",
    "            maskpaths_per_class[classname] = {}\n",
    "\n",
    "            for anomaly in anomaly_types:\n",
    "                anomaly_path = os.path.join(classpath, anomaly)\n",
    "                anomaly_files = sorted(os.listdir(anomaly_path))\n",
    "                imgpaths_per_class[classname][anomaly] = [\n",
    "                    os.path.join(anomaly_path, x) for x in anomaly_files\n",
    "                ]\n",
    "\n",
    "                if self.train_val_split < 1.0:\n",
    "                    n_images = len(imgpaths_per_class[classname][anomaly])\n",
    "                    split_idx = int(n_images * self.train_val_split)\n",
    "                    if self.split == DatasetSplit.TRAIN:\n",
    "                        imgpaths_per_class[classname][anomaly] = imgpaths_per_class[classname][anomaly][:split_idx]\n",
    "                    elif self.split == DatasetSplit.VAL:\n",
    "                        imgpaths_per_class[classname][anomaly] = imgpaths_per_class[classname][anomaly][split_idx:]\n",
    "\n",
    "                if self.split == DatasetSplit.TEST and anomaly != \"ok\":\n",
    "                    anomaly_mask_path = os.path.join(maskpath, anomaly)\n",
    "                    if os.path.exists(anomaly_mask_path):\n",
    "                        anomaly_mask_files = sorted(os.listdir(anomaly_mask_path))\n",
    "                        maskpaths_per_class[classname][anomaly] = [\n",
    "                            os.path.join(anomaly_mask_path, x) for x in anomaly_mask_files\n",
    "                        ]\n",
    "                    else:\n",
    "                        # If ground truth missing, fill with None\n",
    "                        maskpaths_per_class[classname][anomaly] = [None] * len(anomaly_files)\n",
    "                \n",
    "        data_to_iterate = []\n",
    "        for classname in sorted(imgpaths_per_class.keys()):\n",
    "            for anomaly in sorted(imgpaths_per_class[classname].keys()):\n",
    "                for i, image_path in enumerate(imgpaths_per_class[classname][anomaly]):\n",
    "                    if self.split == DatasetSplit.TEST and anomaly != \"ok\":\n",
    "                        mask_path = maskpaths_per_class[classname][anomaly][i]\n",
    "                    else:\n",
    "                        mask_path = None\n",
    "                    data_to_iterate.append([classname, anomaly, image_path, mask_path])\n",
    "\n",
    "        return imgpaths_per_class, data_to_iterate"
   ]
  },
  {
   "cell_type": "code",
   "execution_count": 5,
   "id": "e06387a1",
   "metadata": {
    "execution": {
     "iopub.execute_input": "2025-06-19T06:55:39.587695Z",
     "iopub.status.busy": "2025-06-19T06:55:39.587182Z",
     "iopub.status.idle": "2025-06-19T06:55:39.593135Z",
     "shell.execute_reply": "2025-06-19T06:55:39.592397Z"
    },
    "papermill": {
     "duration": 0.039669,
     "end_time": "2025-06-19T06:55:39.594317",
     "exception": false,
     "start_time": "2025-06-19T06:55:39.554648",
     "status": "completed"
    },
    "tags": []
   },
   "outputs": [],
   "source": [
    "import btad\n",
    "from btad import BTADDataset, DatasetSplit, _CLASSNAMES"
   ]
  },
  {
   "cell_type": "markdown",
   "id": "8d97dcbc",
   "metadata": {
    "papermill": {
     "duration": 0.034318,
     "end_time": "2025-06-19T06:55:39.660213",
     "exception": false,
     "start_time": "2025-06-19T06:55:39.625895",
     "status": "completed"
    },
    "tags": []
   },
   "source": [
    "# **Modules**"
   ]
  },
  {
   "cell_type": "code",
   "execution_count": 6,
   "id": "1b1d3651",
   "metadata": {
    "execution": {
     "iopub.execute_input": "2025-06-19T06:55:39.733622Z",
     "iopub.status.busy": "2025-06-19T06:55:39.733089Z",
     "iopub.status.idle": "2025-06-19T06:55:39.737293Z",
     "shell.execute_reply": "2025-06-19T06:55:39.736575Z"
    },
    "papermill": {
     "duration": 0.038024,
     "end_time": "2025-06-19T06:55:39.738482",
     "exception": false,
     "start_time": "2025-06-19T06:55:39.700458",
     "status": "completed"
    },
    "tags": []
   },
   "outputs": [],
   "source": [
    "def denormalization(x):\n",
    "    mean = np.array([0.485, 0.456, 0.406])\n",
    "    std = np.array([0.229, 0.224, 0.225])\n",
    "    x = (((x.transpose(1, 2, 0) * std) + mean) * 255.).astype(np.uint8)\n",
    "    return x"
   ]
  },
  {
   "cell_type": "code",
   "execution_count": 7,
   "id": "28763b0e",
   "metadata": {
    "execution": {
     "iopub.execute_input": "2025-06-19T06:55:39.803225Z",
     "iopub.status.busy": "2025-06-19T06:55:39.802365Z",
     "iopub.status.idle": "2025-06-19T06:55:39.808508Z",
     "shell.execute_reply": "2025-06-19T06:55:39.807774Z"
    },
    "papermill": {
     "duration": 0.039567,
     "end_time": "2025-06-19T06:55:39.809723",
     "exception": false,
     "start_time": "2025-06-19T06:55:39.770156",
     "status": "completed"
    },
    "tags": []
   },
   "outputs": [],
   "source": [
    "def embedding_concat(x, y):\n",
    "    B, C1, H1, W1 = x.size()\n",
    "    _, C2, H2, W2 = y.size()\n",
    "    s = int(H1 / H2)\n",
    "    x = F.unfold(x, kernel_size=s, dilation=1, stride=s)\n",
    "    x = x.view(B, C1, -1, H2, W2)\n",
    "    z = torch.zeros(B, C1 + C2, x.size(2), H2, W2)\n",
    "    for i in range(x.size(2)):\n",
    "        z[:, :, i, :, :] = torch.cat((x[:, :, i, :, :], y), 1)\n",
    "    z = z.view(B, -1, H2 * W2)\n",
    "    z = F.fold(z, kernel_size=s, output_size=(H1, W1), stride=s)\n",
    "\n",
    "    return z"
   ]
  },
  {
   "cell_type": "code",
   "execution_count": 8,
   "id": "8d43f992",
   "metadata": {
    "execution": {
     "iopub.execute_input": "2025-06-19T06:55:39.874494Z",
     "iopub.status.busy": "2025-06-19T06:55:39.873791Z",
     "iopub.status.idle": "2025-06-19T06:55:39.884112Z",
     "shell.execute_reply": "2025-06-19T06:55:39.883314Z"
    },
    "papermill": {
     "duration": 0.04404,
     "end_time": "2025-06-19T06:55:39.885553",
     "exception": false,
     "start_time": "2025-06-19T06:55:39.841513",
     "status": "completed"
    },
    "tags": []
   },
   "outputs": [],
   "source": [
    "def plot_fig(test_img, scores, gts, threshold, save_dir, class_name):\n",
    "    num = len(scores)\n",
    "    vmax = scores.max() * 255.\n",
    "    vmin = scores.min() * 255.\n",
    "    for i in range(num):\n",
    "        img = test_img[i]\n",
    "        img = denormalization(img)\n",
    "        gt = gts[i].transpose(1, 2, 0).squeeze()\n",
    "        heat_map = scores[i] * 255\n",
    "        mask = scores[i]\n",
    "        mask[mask > threshold] = 1\n",
    "        mask[mask <= threshold] = 0\n",
    "        kernel = morphology.disk(4)\n",
    "        mask = morphology.opening(mask, kernel)\n",
    "        mask *= 255\n",
    "        vis_img = mark_boundaries(img, mask, color=(1, 0, 0), mode='thick')\n",
    "        fig_img, ax_img = plt.subplots(1, 5, figsize=(12, 3))\n",
    "        fig_img.subplots_adjust(right=0.9)\n",
    "        norm = matplotlib.colors.Normalize(vmin=vmin, vmax=vmax)\n",
    "        for ax_i in ax_img:\n",
    "            ax_i.axes.xaxis.set_visible(False)\n",
    "            ax_i.axes.yaxis.set_visible(False)\n",
    "        ax_img[0].imshow(img)\n",
    "        ax_img[0].title.set_text('Image')\n",
    "        ax_img[1].imshow(gt, cmap='gray')\n",
    "        ax_img[1].title.set_text('GroundTruth')\n",
    "        ax = ax_img[2].imshow(heat_map, cmap='jet', norm=norm)\n",
    "        ax_img[2].imshow(img, cmap='gray', interpolation='none')\n",
    "        ax_img[2].imshow(heat_map, cmap='jet', alpha=0.5, interpolation='none')\n",
    "        ax_img[2].title.set_text('Predicted heat map')\n",
    "        ax_img[3].imshow(mask, cmap='gray')\n",
    "        ax_img[3].title.set_text('Predicted mask')\n",
    "        ax_img[4].imshow(vis_img)\n",
    "        ax_img[4].title.set_text('Segmentation result')\n",
    "        left = 0.92\n",
    "        bottom = 0.15\n",
    "        width = 0.015\n",
    "        height = 1 - 2 * bottom\n",
    "        rect = [left, bottom, width, height]\n",
    "        cbar_ax = fig_img.add_axes(rect)\n",
    "        cb = plt.colorbar(ax, shrink=0.6, cax=cbar_ax, fraction=0.046)\n",
    "        cb.ax.tick_params(labelsize=8)\n",
    "        font = {\n",
    "            'family': 'serif',\n",
    "            'color': 'black',\n",
    "            'weight': 'normal',\n",
    "            'size': 8,\n",
    "        }\n",
    "        cb.set_label('Anomaly Score', fontdict=font)\n",
    "\n",
    "        fig_img.savefig(os.path.join(save_dir, class_name + '_{}'.format(i)), dpi=100)\n",
    "        plt.close()"
   ]
  },
  {
   "cell_type": "code",
   "execution_count": 9,
   "id": "590d31cc",
   "metadata": {
    "execution": {
     "iopub.execute_input": "2025-06-19T06:55:39.950330Z",
     "iopub.status.busy": "2025-06-19T06:55:39.949763Z",
     "iopub.status.idle": "2025-06-19T06:55:39.953677Z",
     "shell.execute_reply": "2025-06-19T06:55:39.953009Z"
    },
    "papermill": {
     "duration": 0.037632,
     "end_time": "2025-06-19T06:55:39.954771",
     "exception": false,
     "start_time": "2025-06-19T06:55:39.917139",
     "status": "completed"
    },
    "tags": []
   },
   "outputs": [],
   "source": [
    "args = SimpleNamespace(\n",
    "    data_path='/kaggle/input/btad-beantech-anomaly-detection/BTech_Dataset_transformed',\n",
    "    save_path='/kaggle/working/btad_result',\n",
    "    arch='resnet18',\n",
    "    phase='train',  # or 'train'\n",
    "    resize=256,\n",
    "    imagesize=224,\n",
    "    batch_size=32,\n",
    "    num_workers=2\n",
    ")"
   ]
  },
  {
   "cell_type": "code",
   "execution_count": 10,
   "id": "289d89ac",
   "metadata": {
    "execution": {
     "iopub.execute_input": "2025-06-19T06:55:40.018644Z",
     "iopub.status.busy": "2025-06-19T06:55:40.018139Z",
     "iopub.status.idle": "2025-06-19T06:55:40.021875Z",
     "shell.execute_reply": "2025-06-19T06:55:40.021335Z"
    },
    "papermill": {
     "duration": 0.036669,
     "end_time": "2025-06-19T06:55:40.022838",
     "exception": false,
     "start_time": "2025-06-19T06:55:39.986169",
     "status": "completed"
    },
    "tags": []
   },
   "outputs": [],
   "source": [
    "os.makedirs(args.save_path, exist_ok=True)"
   ]
  },
  {
   "cell_type": "markdown",
   "id": "a815919c",
   "metadata": {
    "papermill": {
     "duration": 0.031904,
     "end_time": "2025-06-19T06:55:40.085826",
     "exception": false,
     "start_time": "2025-06-19T06:55:40.053922",
     "status": "completed"
    },
    "tags": []
   },
   "source": [
    "# **PaDiM** "
   ]
  },
  {
   "cell_type": "code",
   "execution_count": 11,
   "id": "b1da4738",
   "metadata": {
    "execution": {
     "iopub.execute_input": "2025-06-19T06:55:40.153805Z",
     "iopub.status.busy": "2025-06-19T06:55:40.153534Z",
     "iopub.status.idle": "2025-06-19T06:55:40.177896Z",
     "shell.execute_reply": "2025-06-19T06:55:40.177076Z"
    },
    "papermill": {
     "duration": 0.061934,
     "end_time": "2025-06-19T06:55:40.179208",
     "exception": false,
     "start_time": "2025-06-19T06:55:40.117274",
     "status": "completed"
    },
    "tags": []
   },
   "outputs": [],
   "source": [
    "def main():\n",
    "    global args\n",
    "    # load model\n",
    "    if args.arch == 'resnet18':\n",
    "        model = resnet18(pretrained=True, progress=True)\n",
    "        t_d = 448\n",
    "        d = 100\n",
    "    elif args.arch == 'wide_resnet50_2':\n",
    "        model = wide_resnet50_2(pretrained=True, progress=True)\n",
    "        t_d = 1792\n",
    "        d = 550\n",
    "    model.to(device)\n",
    "    model.eval()\n",
    "    \n",
    "    random.seed(1024)\n",
    "    torch.manual_seed(1024)\n",
    "    if use_cuda:\n",
    "        torch.cuda.manual_seed_all(1024)\n",
    "\n",
    "    idx = torch.tensor(sample(range(0, t_d), d))\n",
    "\n",
    "    # set model's intermediate outputs\n",
    "    outputs = []\n",
    "\n",
    "    def hook(module, input, output):\n",
    "        outputs.append(output)\n",
    "\n",
    "    model.layer1[-1].register_forward_hook(hook)\n",
    "    model.layer2[-1].register_forward_hook(hook)\n",
    "    model.layer3[-1].register_forward_hook(hook)\n",
    "\n",
    "    os.makedirs(os.path.join(args.save_path, 'temp_%s' % args.arch), exist_ok=True)\n",
    "    fig, ax = plt.subplots(1, 2, figsize=(20, 10))\n",
    "    fig_img_rocauc = ax[0]\n",
    "    fig_pixel_rocauc = ax[1]\n",
    "\n",
    "    total_roc_auc = []\n",
    "    total_pixel_roc_auc = []\n",
    "\n",
    "    for class_name in btad._CLASSNAMES:\n",
    "        train_dataset = btad.BTADDataset(\n",
    "            source=args.data_path,\n",
    "            classname=class_name,\n",
    "            resize=args.resize,\n",
    "            imagesize=args.imagesize,\n",
    "            split=DatasetSplit.TRAIN\n",
    "        )\n",
    "        test_dataset = btad.BTADDataset(\n",
    "            source=args.data_path,\n",
    "            classname=class_name,\n",
    "            resize=args.resize,\n",
    "            imagesize=args.imagesize,\n",
    "            split=DatasetSplit.TEST\n",
    "        )\n",
    "        train_dataloader = torch.utils.data.DataLoader(train_dataset, batch_size=args.batch_size, shuffle=True, num_workers=args.num_workers)\n",
    "        test_dataloader = torch.utils.data.DataLoader(test_dataset, batch_size=args.batch_size, shuffle=False, num_workers=args.num_workers)\n",
    "        train_outputs = OrderedDict([('layer1', []), ('layer2', []), ('layer3', [])])\n",
    "        test_outputs = OrderedDict([('layer1', []), ('layer2', []), ('layer3', [])])\n",
    "\n",
    "        # extract train set features\n",
    "        train_feature_filepath = os.path.join(args.save_path, 'temp_%s' % args.arch, 'train_%s.pkl' % class_name)\n",
    "        if not os.path.exists(train_feature_filepath):\n",
    "            for batch in tqdm(train_dataloader, '| feature extraction | train | %s |' % class_name):\n",
    "                x = batch[\"image\"]\n",
    "                # model prediction\n",
    "                with torch.no_grad():\n",
    "                    _ = model(x.to(device))\n",
    "                # get intermediate layer outputs\n",
    "                for k, v in zip(train_outputs.keys(), outputs):\n",
    "                    train_outputs[k].append(v.cpu().detach())\n",
    "                # initialize hook outputs\n",
    "                outputs = []\n",
    "            for k, v in train_outputs.items():\n",
    "                train_outputs[k] = torch.cat(v, 0)\n",
    "\n",
    "            # Embedding concat\n",
    "            embedding_vectors = train_outputs['layer1']\n",
    "            for layer_name in ['layer2', 'layer3']:\n",
    "                embedding_vectors = embedding_concat(embedding_vectors, train_outputs[layer_name])\n",
    "\n",
    "            # randomly select d dimension\n",
    "            embedding_vectors = torch.index_select(embedding_vectors, 1, idx)\n",
    "            # calculate multivariate Gaussian distribution\n",
    "            B, C, H, W = embedding_vectors.size()\n",
    "            embedding_vectors = embedding_vectors.view(B, C, H * W)\n",
    "            mean = torch.mean(embedding_vectors, dim=0).numpy()\n",
    "            cov = torch.zeros(C, C, H * W).numpy()\n",
    "            I = np.identity(C)\n",
    "            for i in range(H * W):\n",
    "                # cov[:, :, i] = LedoitWolf().fit(embedding_vectors[:, :, i].numpy()).covariance_\n",
    "                cov[:, :, i] = np.cov(embedding_vectors[:, :, i].numpy(), rowvar=False) + 0.01 * I\n",
    "            # save learned distribution\n",
    "            train_outputs = [mean, cov]\n",
    "            with open(train_feature_filepath, 'wb') as f:\n",
    "                pickle.dump(train_outputs, f)\n",
    "        else:\n",
    "            print('load train set feature from: %s' % train_feature_filepath)\n",
    "            with open(train_feature_filepath, 'rb') as f:\n",
    "                train_outputs = pickle.load(f)\n",
    "\n",
    "        gt_list = []\n",
    "        gt_mask_list = []\n",
    "        test_imgs = []\n",
    "\n",
    "        # extract test set features\n",
    "        for batch in tqdm(test_dataloader, '| feature extraction | test | %s |' % class_name):\n",
    "            x = batch[\"image\"]\n",
    "            y = batch[\"is_anomaly\"]\n",
    "            mask = batch[\"mask\"]\n",
    "\n",
    "            test_imgs.extend(x.cpu().detach().numpy())\n",
    "            gt_list.extend(y.cpu().detach().numpy())\n",
    "            gt_mask_list.extend(mask.cpu().detach().numpy())\n",
    "\n",
    "            with torch.no_grad():\n",
    "                _ = model(x.to(device))\n",
    "\n",
    "            for k, v in zip(test_outputs.keys(), outputs):\n",
    "                test_outputs[k].append(v.cpu().detach())\n",
    "\n",
    "            outputs = []\n",
    "\n",
    "\n",
    "        for k, v in test_outputs.items():\n",
    "            test_outputs[k] = torch.cat(v, 0)\n",
    "        \n",
    "        # Embedding concat\n",
    "        embedding_vectors = test_outputs['layer1']\n",
    "        for layer_name in ['layer2', 'layer3']:\n",
    "            embedding_vectors = embedding_concat(embedding_vectors, test_outputs[layer_name])\n",
    "\n",
    "        # randomly select d dimension\n",
    "        embedding_vectors = torch.index_select(embedding_vectors, 1, idx)\n",
    "        \n",
    "        # calculate distance matrix\n",
    "        B, C, H, W = embedding_vectors.size()\n",
    "        embedding_vectors = embedding_vectors.view(B, C, H * W).numpy()\n",
    "        dist_list = []\n",
    "        for i in range(H * W):\n",
    "            mean = train_outputs[0][:, i]\n",
    "            conv_inv = np.linalg.inv(train_outputs[1][:, :, i])\n",
    "            dist = [mahalanobis(sample[:, i], mean, conv_inv) for sample in embedding_vectors]\n",
    "            dist_list.append(dist)\n",
    "\n",
    "        dist_list = np.array(dist_list).transpose(1, 0).reshape(B, H, W)\n",
    "\n",
    "        # upsample\n",
    "        dist_list = torch.tensor(dist_list)\n",
    "        score_map = F.interpolate(dist_list.unsqueeze(1), size=x.size(2), mode='bilinear',\n",
    "                                  align_corners=False).squeeze().numpy()\n",
    "        \n",
    "        # apply gaussian smoothing on the score map\n",
    "        for i in range(score_map.shape[0]):\n",
    "            score_map[i] = gaussian_filter(score_map[i], sigma=4)\n",
    "        \n",
    "        # Normalization\n",
    "        max_score = score_map.max()\n",
    "        min_score = score_map.min()\n",
    "        scores = (score_map - min_score) / (max_score - min_score)\n",
    "        \n",
    "        # calculate image-level ROC AUC score\n",
    "        img_scores = scores.reshape(scores.shape[0], -1).max(axis=1)\n",
    "        gt_list = np.asarray(gt_list)\n",
    "        fpr, tpr, _ = roc_curve(gt_list, img_scores)\n",
    "        img_roc_auc = roc_auc_score(gt_list, img_scores)\n",
    "        total_roc_auc.append(img_roc_auc)\n",
    "        print('image ROCAUC: %.3f' % (img_roc_auc))\n",
    "        fig_img_rocauc.plot(fpr, tpr, label='%s img_ROCAUC: %.3f' % (class_name, img_roc_auc))\n",
    "        \n",
    "        # get optimal threshold\n",
    "        gt_mask = np.asarray(gt_mask_list)\n",
    "        gt_mask = (gt_mask > 0.5).astype(np.uint8)  # binarize the mask to 0 or 1\n",
    "        precision, recall, thresholds = precision_recall_curve(gt_mask.flatten(), scores.flatten())\n",
    "        a = 2 * precision * recall\n",
    "        b = precision + recall\n",
    "        f1 = np.divide(a, b, out=np.zeros_like(a), where=b != 0)\n",
    "        threshold = thresholds[np.argmax(f1)]\n",
    "\n",
    "        # calculate per-pixel level ROCAUC\n",
    "        fpr, tpr, _ = roc_curve(gt_mask.flatten(), scores.flatten())\n",
    "        per_pixel_rocauc = roc_auc_score(gt_mask.flatten(), scores.flatten())\n",
    "        total_pixel_roc_auc.append(per_pixel_rocauc)\n",
    "        print('pixel ROCAUC: %.3f' % (per_pixel_rocauc))\n",
    "\n",
    "        fig_pixel_rocauc.plot(fpr, tpr, label='%s ROCAUC: %.3f' % (class_name, per_pixel_rocauc))\n",
    "        save_dir = args.save_path + '/' + f'pictures_{args.arch}'\n",
    "        os.makedirs(save_dir, exist_ok=True)\n",
    "        plot_fig(test_imgs, scores, gt_mask_list, threshold, save_dir, class_name)\n",
    "\n",
    "    print('Average ROCAUC: %.3f' % np.mean(total_roc_auc))\n",
    "    fig_img_rocauc.title.set_text('Average image ROCAUC: %.3f' % np.mean(total_roc_auc))\n",
    "    fig_img_rocauc.legend(loc=\"lower right\")\n",
    "\n",
    "    \n",
    "    print('Average pixel ROCUAC: %.3f' % np.mean(total_pixel_roc_auc))\n",
    "    fig_pixel_rocauc.title.set_text('Average pixel ROCAUC: %.3f' % np.mean(total_pixel_roc_auc))\n",
    "    fig_pixel_rocauc.legend(loc=\"lower right\")\n",
    "\n",
    "    \n",
    "    fig.tight_layout()\n",
    "    fig.savefig(os.path.join(args.save_path, 'roc_curve.png'), dpi=100)"
   ]
  },
  {
   "cell_type": "code",
   "execution_count": 12,
   "id": "1a837d41",
   "metadata": {
    "execution": {
     "iopub.execute_input": "2025-06-19T06:55:40.249984Z",
     "iopub.status.busy": "2025-06-19T06:55:40.249231Z",
     "iopub.status.idle": "2025-06-19T07:02:00.885907Z",
     "shell.execute_reply": "2025-06-19T07:02:00.885004Z"
    },
    "papermill": {
     "duration": 380.672913,
     "end_time": "2025-06-19T07:02:00.887935",
     "exception": false,
     "start_time": "2025-06-19T06:55:40.215022",
     "status": "completed"
    },
    "tags": []
   },
   "outputs": [
    {
     "name": "stderr",
     "output_type": "stream",
     "text": [
      "/usr/local/lib/python3.11/dist-packages/torchvision/models/_utils.py:208: UserWarning: The parameter 'pretrained' is deprecated since 0.13 and may be removed in the future, please use 'weights' instead.\n",
      "  warnings.warn(\n",
      "/usr/local/lib/python3.11/dist-packages/torchvision/models/_utils.py:223: UserWarning: Arguments other than a weight enum or `None` for 'weights' are deprecated since 0.13 and may be removed in the future. The current behavior is equivalent to passing `weights=ResNet18_Weights.IMAGENET1K_V1`. You can also use `weights=ResNet18_Weights.DEFAULT` to get the most up-to-date weights.\n",
      "  warnings.warn(msg)\n",
      "Downloading: \"https://download.pytorch.org/models/resnet18-f37072fd.pth\" to /root/.cache/torch/hub/checkpoints/resnet18-f37072fd.pth\n",
      "100%|██████████| 44.7M/44.7M [00:00<00:00, 86.3MB/s]\n",
      "| feature extraction | train | 01 |: 100%|██████████| 13/13 [00:23<00:00,  1.82s/it]\n",
      "| feature extraction | test | 01 |: 100%|██████████| 3/3 [00:04<00:00,  1.54s/it]\n"
     ]
    },
    {
     "name": "stdout",
     "output_type": "stream",
     "text": [
      "image ROCAUC: 0.999\n",
      "pixel ROCAUC: 0.970\n"
     ]
    },
    {
     "name": "stderr",
     "output_type": "stream",
     "text": [
      "| feature extraction | train | 02 |: 100%|██████████| 13/13 [00:07<00:00,  1.74it/s]\n",
      "| feature extraction | test | 02 |: 100%|██████████| 8/8 [00:05<00:00,  1.45it/s]\n"
     ]
    },
    {
     "name": "stdout",
     "output_type": "stream",
     "text": [
      "image ROCAUC: 0.826\n",
      "pixel ROCAUC: 0.953\n"
     ]
    },
    {
     "name": "stderr",
     "output_type": "stream",
     "text": [
      "| feature extraction | train | 03 |: 100%|██████████| 32/32 [00:16<00:00,  1.96it/s]\n",
      "| feature extraction | test | 03 |: 100%|██████████| 14/14 [00:07<00:00,  1.75it/s]\n"
     ]
    },
    {
     "name": "stdout",
     "output_type": "stream",
     "text": [
      "image ROCAUC: 0.996\n",
      "pixel ROCAUC: 0.993\n",
      "Average ROCAUC: 0.940\n",
      "Average pixel ROCUAC: 0.972\n"
     ]
    },
    {
     "data": {
      "image/png": "[encoded data removed]",
      "text/plain": [
       "<Figure size 2000x1000 with 2 Axes>"
      ]
     },
     "metadata": {},
     "output_type": "display_data"
    }
   ],
   "source": [
    "main()"
   ]
  }
 ],
 "metadata": {
  "kaggle": {
   "accelerator": "none",
   "dataSources": [
    {
     "datasetId": 912911,
     "sourceId": 1547236,
     "sourceType": "datasetVersion"
    },
    {
     "datasetId": 1485541,
     "sourceId": 2454327,
     "sourceType": "datasetVersion"
    },
    {
     "datasetId": 1946896,
     "sourceId": 3209332,
     "sourceType": "datasetVersion"
    },
    {
     "datasetId": 5929630,
     "sourceId": 9697599,
     "sourceType": "datasetVersion"
    }
   ],
   "dockerImageVersionId": 31040,
   "isGpuEnabled": false,
   "isInternetEnabled": true,
   "language": "python",
   "sourceType": "notebook"
  },
  "kernelspec": {
   "display_name": "Python 3",
   "language": "python",
   "name": "python3"
  },
  "language_info": {
   "codemirror_mode": {
    "name": "ipython",
    "version": 3
   },
   "file_extension": ".py",
   "mimetype": "text/x-python",
   "name": "python",
   "nbconvert_exporter": "python",
   "pygments_lexer": "ipython3",
   "version": "3.11.11"
  },
  "papermill": {
   "default_parameters": {},
   "duration": 483.348597,
   "end_time": "2025-06-19T07:02:04.050505",
   "environment_variables": {},
   "exception": null,
   "input_path": "__notebook__.ipynb",
   "output_path": "__notebook__.ipynb",
   "parameters": {},
   "start_time": "2025-06-19T06:54:00.701908",
   "version": "2.6.0"
  }
 },
 "nbformat": 4,
 "nbformat_minor": 5
}
